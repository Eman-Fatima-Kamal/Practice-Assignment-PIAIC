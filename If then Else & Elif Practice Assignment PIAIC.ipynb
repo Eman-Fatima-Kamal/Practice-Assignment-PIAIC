{
 "cells": [
  {
   "cell_type": "raw",
   "metadata": {
    "id": "8rksu2_jMVjQ"
   },
   "source": [
    "1) A company decided to give bonus of 5% to employee if his/her year of service is more than 5 years.\n",
    "Ask user for their salary and year of service and print the net bonus amount."
   ]
  },
  {
   "cell_type": "code",
   "execution_count": null,
   "metadata": {
    "id": "_GRPHPiLMVjX"
   },
   "outputs": [],
   "source": [
    "#Type your code here"
   ]
  },
  {
   "cell_type": "code",
   "execution_count": 3,
   "metadata": {
    "id": "3kDSFTKdMcqZ"
   },
   "outputs": [
    {
     "name": "stdout",
     "output_type": "stream",
     "text": [
      "Welcome... \n",
      "Enter your name: Eman\n",
      "Thank you for connecting Eman\n",
      "Please Enter your Salary: 80000\n",
      "Please Enter year of joining: 2015\n",
      "Congratulations You are Eligible for the Bonus.\n",
      "Your Bonus is:  4000.0\n"
     ]
    }
   ],
   "source": [
    "print(\"Welcome... \")\n",
    "Name = input(\"Enter your name: \")\n",
    "print(\"Thank you for connecting\",Name)\n",
    "salary = int(input(\"Please Enter your Salary: \"))\n",
    "year_of_joining = int(input(\"Please Enter year of joining: \"))\n",
    "year_of_service = 2022-year_of_joining\n",
    "if year_of_service > 5:\n",
    "    print(\"Congratulations You are Eligible for the Bonus.\")\n",
    "    bonus = (salary/100)*5\n",
    "    print(\"Your Bonus is: \",bonus)\n",
    "else:\n",
    "    print(\"Sorry, You are not eligible for the Bonus.\")"
   ]
  },
  {
   "cell_type": "markdown",
   "metadata": {
    "id": "iXt5RVcjMVja"
   },
   "source": [
    "\n",
    "2) Write a program to check whether a person is eligible for voting or not. (accept age from user)"
   ]
  },
  {
   "cell_type": "code",
   "execution_count": null,
   "metadata": {
    "id": "jXVCvia3MVjh"
   },
   "outputs": [],
   "source": [
    "#Type your code here"
   ]
  },
  {
   "cell_type": "code",
   "execution_count": 2,
   "metadata": {},
   "outputs": [
    {
     "name": "stdout",
     "output_type": "stream",
     "text": [
      "Welcome..\n",
      "Please enter your Name eman\n",
      "Thankyou for connecting  eman\n",
      "Please enter you age 19\n",
      "You are eligible for voting eman\n"
     ]
    }
   ],
   "source": [
    "print(\"Welcome..\")\n",
    "Name=input(\"Please enter your Name \" )\n",
    "print(\"Thankyou for connecting \",Name)\n",
    "Age=int(input(\"Please enter you age \" ))\n",
    "if (Age>18):\n",
    "          print(\"You are eligible for voting\",Name)\n",
    "else:\n",
    "          print(\"Sorry you are not eligible foe voting\",Name)"
   ]
  },
  {
   "cell_type": "markdown",
   "metadata": {
    "id": "IkNM7QpCMVjj"
   },
   "source": [
    "\n",
    "3) Write a program to check whether a number entered by user is even or odd."
   ]
  },
  {
   "cell_type": "code",
   "execution_count": null,
   "metadata": {
    "id": "-GxviwByMVjl"
   },
   "outputs": [],
   "source": [
    "#Type your code here"
   ]
  },
  {
   "cell_type": "code",
   "execution_count": 4,
   "metadata": {},
   "outputs": [
    {
     "name": "stdout",
     "output_type": "stream",
     "text": [
      "Enter a number to check whether it is even or odd: 7\n",
      "Its an Odd number\n"
     ]
    }
   ],
   "source": [
    "input_num=int(input(\"Enter a number to check whether it is even or odd: \" ))\n",
    "if input_num%2 == 0:\n",
    "    print(\"Its an Even number\")\n",
    "else:\n",
    "    print(\"Its an Odd number\")"
   ]
  },
  {
   "cell_type": "markdown",
   "metadata": {
    "id": "_jEHjkfdMVjm"
   },
   "source": [
    "4) Write a program to check whether a number is divisible by 7 or not.\n",
    "Show Answer"
   ]
  },
  {
   "cell_type": "code",
   "execution_count": null,
   "metadata": {
    "id": "IRNXyG1GMVjo"
   },
   "outputs": [],
   "source": [
    "#Type your code here"
   ]
  },
  {
   "cell_type": "code",
   "execution_count": 7,
   "metadata": {},
   "outputs": [
    {
     "name": "stdout",
     "output_type": "stream",
     "text": [
      "Enter a number to check whether a number is divisible by 7 or not: 7\n",
      "Its dividible by 7\n"
     ]
    }
   ],
   "source": [
    "input_num=int(input(\"Enter a number to check whether a number is divisible by 7 or not: \" ))\n",
    "if input_num%7 == 0:\n",
    "    print(\"Its dividible by 7\")\n",
    "else:\n",
    "    print(\"Its not divisible by 7\")"
   ]
  },
  {
   "cell_type": "raw",
   "metadata": {
    "id": "XxfyVe4kMVjp"
   },
   "source": [
    "5) Write a program to display \n",
    "\"Hello\" if a number entered by user is a multiple of five , otherwise print \"Bye\"."
   ]
  },
  {
   "cell_type": "code",
   "execution_count": null,
   "metadata": {
    "id": "Ixnz4R4TMVjr"
   },
   "outputs": [],
   "source": [
    "#Type your code here"
   ]
  },
  {
   "cell_type": "code",
   "execution_count": 10,
   "metadata": {},
   "outputs": [
    {
     "name": "stdout",
     "output_type": "stream",
     "text": [
      "Enter a number to check whether the number entered by user is a multiple of five: 17\n",
      "Byee\n"
     ]
    }
   ],
   "source": [
    "input_num=int(input(\"Enter a number to check whether the number entered by user is a multiple of five: \" ))\n",
    "if input_num%5 == 0:\n",
    "    print(\"Hello\")\n",
    "else:\n",
    "    print(\"Byee\")\n",
    "\n",
    "    "
   ]
  },
  {
   "cell_type": "raw",
   "metadata": {
    "id": "qfzRUUwOMVjs"
   },
   "source": [
    "6) Write a program to calculate the electricity bill (accept number of unit from user) according to the following criteria :\n",
    "     Unit                                                     Price  \n",
    "uptp 100 units                                             no charge\n",
    "Next 200 units                                              Rs 5 per unit\n",
    "After 200 units                                             Rs 10 per unit\n",
    "(For example if input unit is 350 than total bill amount is Rs.2000\n",
    "(For example if input unit is 97 than total bill amount is Rs.0\n",
    "(For example if input unit is 150 than total bill amount is Rs.250"
   ]
  },
  {
   "cell_type": "code",
   "execution_count": null,
   "metadata": {
    "id": "1BY1oAIpMVju"
   },
   "outputs": [],
   "source": [
    "#Type your code here"
   ]
  },
  {
   "cell_type": "code",
   "execution_count": 11,
   "metadata": {},
   "outputs": [
    {
     "name": "stdout",
     "output_type": "stream",
     "text": [
      "Please Enter youre unit: 198\n",
      "Your Net Bill Amount is:  990\n"
     ]
    }
   ],
   "source": [
    "unit = int(input(\"Please Enter youre unit: \"))\n",
    "if unit>=1 and unit<=100:\n",
    "    bill = 0\n",
    "    print(\"No Charge applied Net Bill Amount is: \",bill)\n",
    "elif unit>100 and unit<=200:\n",
    "    bill = 5*unit\n",
    "    print(\"Your Net Bill Amount is: \",bill)\n",
    "elif unit>200:\n",
    "    bill = 10*unit\n",
    "    print(\"Your Net Bill Amount is: \",bill)"
   ]
  },
  {
   "cell_type": "raw",
   "metadata": {
    "id": "msAIDMRDMVjv"
   },
   "source": [
    "7) Write a program to display the last digit of a number.\n"
   ]
  },
  {
   "cell_type": "code",
   "execution_count": null,
   "metadata": {
    "id": "VQwLuGzbMVjv"
   },
   "outputs": [],
   "source": [
    "#Type your code here"
   ]
  },
  {
   "cell_type": "code",
   "execution_count": 12,
   "metadata": {},
   "outputs": [
    {
     "name": "stdout",
     "output_type": "stream",
     "text": [
      "Please Enter a Random Numbers: 123\n",
      "The last digit of 123 is: 3\n"
     ]
    }
   ],
   "source": [
    "num = int(input(\"Please Enter a Random Numbers: \"))\n",
    "data = str(num)\n",
    "print(f\"The last digit of {num} is: { data[-1]}\")"
   ]
  },
  {
   "cell_type": "raw",
   "metadata": {
    "id": "UeLHzVZ_MVjw"
   },
   "source": [
    "\n",
    "Q8. Write a program to check whether the last digit of a number( entered by user ) is \n",
    "divisible by 3 or not."
   ]
  },
  {
   "cell_type": "code",
   "execution_count": null,
   "metadata": {
    "id": "KiQ5wnc6MVjx"
   },
   "outputs": [],
   "source": [
    "#Type your code here"
   ]
  },
  {
   "cell_type": "code",
   "execution_count": 15,
   "metadata": {},
   "outputs": [
    {
     "name": "stdout",
     "output_type": "stream",
     "text": [
      "Please Enter Random Numbers: 8883\n",
      "The last digit 3 is divisible by 3\n"
     ]
    }
   ],
   "source": [
    "num = int(input(\"Please Enter Random Numbers: \"))\n",
    "data = str(num)\n",
    "last_digit = data[-1]\n",
    "a = int(last_digit)\n",
    "if (a%3) == 0:\n",
    "    print(\"The last digit {0} is divisible by 3\".format(a))\n",
    "else:\n",
    "    print(\"The last digit {0} is NOT divisible by 3\".format(a))"
   ]
  },
  {
   "cell_type": "raw",
   "metadata": {
    "id": "CR4sMmRgMVjy"
   },
   "source": [
    "9) Take values of length and breadth of a rectangle from user and check if it is square or not."
   ]
  },
  {
   "cell_type": "code",
   "execution_count": null,
   "metadata": {
    "id": "Oj1MT5fCMVjy"
   },
   "outputs": [],
   "source": [
    "#Type your code here "
   ]
  },
  {
   "cell_type": "code",
   "execution_count": 1,
   "metadata": {},
   "outputs": [
    {
     "name": "stdout",
     "output_type": "stream",
     "text": [
      "Enter the length: 65\n",
      "Enter the breadth: 76\n",
      "Its a rectangle\n"
     ]
    }
   ],
   "source": [
    "length=int(input(\"Enter the length: \"))\n",
    "breadth=int(input(\"Enter the breadth: \"))\n",
    "if length==breadth:\n",
    "    print(\"Its a square\")\n",
    "else:\n",
    "    print(\"Its a rectangle\")"
   ]
  },
  {
   "cell_type": "raw",
   "metadata": {
    "id": "B2e5VYbiMVjz"
   },
   "source": [
    "10) Take two int values from user and print greatest among them."
   ]
  },
  {
   "cell_type": "code",
   "execution_count": null,
   "metadata": {
    "id": "LyYYL78HMVj0"
   },
   "outputs": [],
   "source": [
    "# Type your code here"
   ]
  },
  {
   "cell_type": "code",
   "execution_count": 16,
   "metadata": {},
   "outputs": [
    {
     "name": "stdout",
     "output_type": "stream",
     "text": [
      "Enter First number: 123\n",
      "Enetr Second number: 1234\n",
      "Second number is greater\n"
     ]
    }
   ],
   "source": [
    "num_1=int(input(\"Enter First number: \"))\n",
    "num_2=int(input(\"Enetr Second number: \"))\n",
    "if (num_1>num_2):\n",
    "    print(\"First number is greater\")\n",
    "elif (num_1==num_2):\n",
    "    print(\"Both numbers are equal\")\n",
    "else:\n",
    "    print(\"Second number is greater\")"
   ]
  },
  {
   "cell_type": "raw",
   "metadata": {
    "id": "R9gMEjdQMVj1"
   },
   "source": [
    "11) A shop will give discount of 10% if the cost of purchased quantity is more than 1000.\n",
    "Ask user for quantity\n",
    "Suppose, one unit will cost 100.\n",
    "Judge and print total cost for user."
   ]
  },
  {
   "cell_type": "code",
   "execution_count": null,
   "metadata": {
    "id": "hjvEnOzxMVj2"
   },
   "outputs": [],
   "source": [
    "#Type your code here"
   ]
  },
  {
   "cell_type": "code",
   "execution_count": 17,
   "metadata": {},
   "outputs": [
    {
     "name": "stdout",
     "output_type": "stream",
     "text": [
      "Enter the quantity: 12\n",
      "Congratulation you got 10% discount on your purchace\n",
      "Your Discounted price is:  1080.0\n"
     ]
    }
   ],
   "source": [
    "quantity = int(input(\"Enter the quantity: \"))\n",
    "unit_cost = 100\n",
    "price = quantity*unit_cost\n",
    "if price>1000:\n",
    "    print(\"Congratulation you got 10% discount on your purchace\")\n",
    "    discounted_price = price - (price/100)*10\n",
    "    print(\"Your Discounted price is: \",discounted_price)\n",
    "else:\n",
    "    print(\"Discount available on more than Rs 1000 shopping\")"
   ]
  },
  {
   "cell_type": "raw",
   "metadata": {
    "id": "yqYL7FZeMVj3"
   },
   "source": [
    "12) A school has following rules for grading system:\n",
    "\n",
    "a. Below 25 - F\n",
    "\n",
    "b. 25 to 45 - E\n",
    "\n",
    "c. 45 to 50 - D\n",
    "\n",
    "d. 50 to 60 - C\n",
    "\n",
    "e. 60 to 80 - B\n",
    "\n",
    "f. Above 80 - A\n",
    "\n",
    "Ask user to enter marks and print the corresponding grade."
   ]
  },
  {
   "cell_type": "code",
   "execution_count": null,
   "metadata": {
    "id": "he_r-bpOMVj4"
   },
   "outputs": [],
   "source": [
    "#Type your code here"
   ]
  },
  {
   "cell_type": "code",
   "execution_count": 21,
   "metadata": {},
   "outputs": [
    {
     "name": "stdout",
     "output_type": "stream",
     "text": [
      "Enter subject 1 marks: 98\n",
      "Enter subject 2 marks: 21\n",
      "Enter subject 3 marks: 345\n",
      "Your Percentage is: 154.66666666666666%\n",
      "Your Grade is: A\n"
     ]
    }
   ],
   "source": [
    "sub1 = int(input(\"Enter subject 1 marks: \"))\n",
    "sub2 = int(input(\"Enter subject 2 marks: \"))\n",
    "sub3 = int(input(\"Enter subject 3 marks: \"))\n",
    "obtained_marks = sub1+sub2+sub3\n",
    "total_marks = 300\n",
    "percentage = (obtained_marks/total_marks)*100\n",
    "if percentage <=25:\n",
    "    print(\"Your Percentage is: {0}%\".format(percentage))\n",
    "    print(\"Your Grade is: F\")\n",
    "elif percentage >25 and percentage <=45:\n",
    "    print(\"Your Percentage is: {0}%\".format(percentage))\n",
    "    print(\"Your Grade is: E\")\n",
    "elif percentage >45 and percentage <=50:\n",
    "    print(\"Your Percentage is: {0}%\".format(percentage))\n",
    "    print(\"Your Grade is: D\")\n",
    "elif percentage >50 and percentage <=60:\n",
    "    print(\"Your Percentage is: {0}%\".format(percentage))\n",
    "    print(\"Your Grade is: C\")\n",
    "elif percentage >60 and percentage <=80:\n",
    "    print(\"Your Percentage is: {0}%\".format(percentage))\n",
    "    print(\"Your Grade is: B\")\n",
    "else:\n",
    "    print(\"Your Percentage is: {0}%\".format(percentage))\n",
    "    print(\"Your Grade is: A\")"
   ]
  },
  {
   "cell_type": "raw",
   "metadata": {
    "id": "IUJjt9NbMVj4"
   },
   "source": [
    "13) Take input of age of 3 people by user and determine oldest and youngest among them."
   ]
  },
  {
   "cell_type": "code",
   "execution_count": null,
   "metadata": {
    "id": "vlre5Ck0MVj4"
   },
   "outputs": [],
   "source": [
    "#Type your code here"
   ]
  },
  {
   "cell_type": "code",
   "execution_count": 20,
   "metadata": {},
   "outputs": [
    {
     "name": "stdout",
     "output_type": "stream",
     "text": [
      "Enter age Person 1: 12\n",
      "Enter age Person 2: 23\n",
      "Enter age Person 3: 45\n",
      "Person 3 is the oldest\n"
     ]
    }
   ],
   "source": [
    "age1 = int(input(\"Enter age Person 1: \"))\n",
    "age2 = int(input(\"Enter age Person 2: \"))\n",
    "age3 = int(input(\"Enter age Person 3: \"))\n",
    "\n",
    "if (age1 > age2) & (age1 > age3):\n",
    "    print('Person 1 is the oldest')\n",
    "\n",
    "elif (age2 > age1) & (age2 > age3):\n",
    "    print('Person 2 is the oldest')\n",
    "\n",
    "else:\n",
    "     print('Person 3 is the oldest')\n"
   ]
  },
  {
   "cell_type": "raw",
   "metadata": {
    "id": "Zc9ovDhsMVj5"
   },
   "source": [
    "14)A student will not be allowed to sit in exam if his/her attendence is less than 75%.\n",
    "\n",
    "Take following input from user\n",
    "\n",
    "Number of classes held\n",
    "\n",
    "Number of classes attended.\n",
    "\n",
    "And print\n",
    "\n",
    "percentage of class attended\n",
    "\n",
    "Is student is allowed to sit in exam or not.\n"
   ]
  },
  {
   "cell_type": "code",
   "execution_count": null,
   "metadata": {
    "id": "rseYum2_MVj6"
   },
   "outputs": [],
   "source": [
    "#Type your code here"
   ]
  },
  {
   "cell_type": "code",
   "execution_count": 12,
   "metadata": {},
   "outputs": [
    {
     "name": "stdout",
     "output_type": "stream",
     "text": [
      "Enter Number of Classes held: 65\n",
      "Enter Number of Classes attend: 60\n",
      "You are allowed sit in Exam\n"
     ]
    }
   ],
   "source": [
    "no_of_classes_held = int(input(\"Enter Number of Classes held: \"))\n",
    "no_of_classes_attend = int(input(\"Enter Number of Classes attend: \"))\n",
    "percentage = (no_of_classes_attend/no_of_classes_held)*100\n",
    "if percentage <75:\n",
    "    print(\"Sorry, You are not allowed to sit in Exam\")\n",
    "else:\n",
    "    print(\"You are allowed sit in Exam\")"
   ]
  },
  {
   "cell_type": "raw",
   "metadata": {
    "id": "58UPPHAOMVj6"
   },
   "source": [
    "15) Modify the above question to allow student to sit if he/she has medical cause. Ask user if he/she has medical cause or not ( 'Y' or 'N' ) and print accordingly."
   ]
  },
  {
   "cell_type": "code",
   "execution_count": null,
   "metadata": {
    "id": "lDi-xLzTMVj7"
   },
   "outputs": [],
   "source": [
    "#Type your code here"
   ]
  },
  {
   "cell_type": "code",
   "execution_count": 19,
   "metadata": {},
   "outputs": [
    {
     "name": "stdout",
     "output_type": "stream",
     "text": [
      "Enter Number of Classes held: 67\n",
      "Enter Number of Classes attend: 59\n",
      "You have any medical cause Y or N: Y\n",
      "Congratulations, You are allowed sit in Exam\n"
     ]
    }
   ],
   "source": [
    "no_of_classes_held = int(input(\"Enter Number of Classes held: \"))\n",
    "no_of_classes_attend = int(input(\"Enter Number of Classes attend: \"))\n",
    "medical_cause = input(\"You have any medical cause Y or N: \")\n",
    "percentage = (no_of_classes_attend/no_of_classes_held)*100\n",
    "\n",
    "if percentage <75 and a ==\"N\":\n",
    "    print(\"Sorry, You are not allowed to sit in Exam\")\n",
    "elif percentage<75 and a == \"Y\":\n",
    "    print(\"Your attendance percentage is: \",percentage)\n",
    "    print(\"Congratulations Due to Medical Cause, You are allowed sit in Exam\")\n",
    "else:\n",
    "    print(\"Congratulations, You are allowed sit in Exam\")\n",
    "    "
   ]
  },
  {
   "cell_type": "raw",
   "metadata": {
    "id": "kJtSy1EoMVj7"
   },
   "source": [
    "16) Write a program to check if a year is leap year or not.\n",
    "\n",
    "If a year is divisible by 4 then it is leap year but if the year is century year like 2000, 1900, 2100 then it must be divisible by 400."
   ]
  },
  {
   "cell_type": "code",
   "execution_count": null,
   "metadata": {
    "id": "QUL_YUX3MVj7"
   },
   "outputs": [],
   "source": [
    "#Type your code here"
   ]
  },
  {
   "cell_type": "code",
   "execution_count": 15,
   "metadata": {},
   "outputs": [
    {
     "name": "stdout",
     "output_type": "stream",
     "text": [
      "Enter a year: 4404\n",
      "Given year is a leap year\n"
     ]
    }
   ],
   "source": [
    "year  = int(input(\"Enter a year: \"))\n",
    "if (year%4) == 0 or (year%400) == 0:\n",
    "    print(\"Given year is a leap year\")\n",
    "else:\n",
    "    print(\"Given year is not a leap year\")"
   ]
  },
  {
   "cell_type": "raw",
   "metadata": {
    "id": "CCNg4yDDMVj8"
   },
   "source": [
    "17) Ask user to enter age, gender ( M or F ), marital status ( Y or N ) and then using following rules print their place of service.\n",
    "\n",
    "if employee is female, then she will work only in urban areas.\n",
    "\n",
    "if employee is a male and age is in between 20 to 40 then he may work in anywhere\n",
    "\n",
    "if employee is male and age is in between 40 t0 60 then he will work in urban areas only.\n",
    "\n",
    "And any other input of age should print \"ERROR\""
   ]
  },
  {
   "cell_type": "code",
   "execution_count": null,
   "metadata": {
    "id": "RDWMB0CZMVj8"
   },
   "outputs": [],
   "source": [
    "#Type your code here"
   ]
  },
  {
   "cell_type": "code",
   "execution_count": 18,
   "metadata": {
    "id": "-TG-QI8TMVj9"
   },
   "outputs": [
    {
     "name": "stdout",
     "output_type": "stream",
     "text": [
      "Enter your age: 27\n",
      "Enter yout gender e.g M or F: M\n",
      "Enter yout marital status e.g Y or N: N\n",
      "You may work anywhere\n"
     ]
    }
   ],
   "source": [
    "age = int(input(\"Enter your age: \"))\n",
    "gender = input(\"Enter yout gender e.g M or F: \")\n",
    "marital_status = input(\"Enter yout marital status e.g Y or N: \")\n",
    "a = gender.upper()\n",
    "if gender == \"F\":\n",
    "    print('You will work only in urban areas')\n",
    "elif a == \"M\" and age>=20 and age<=40:\n",
    "    print('You may work anywhere')\n",
    "elif a ==\"M\" and age>=40 and age<=60:\n",
    "    print('You will work in urban areas only')\n",
    "else:\n",
    "    print(\"Error\")"
   ]
  }
 ],
 "metadata": {
  "colab": {
   "name": "If then Else &Elif Practice Task .ipynb",
   "provenance": []
  },
  "kernelspec": {
   "display_name": "Python 3 (ipykernel)",
   "language": "python",
   "name": "python3"
  },
  "language_info": {
   "codemirror_mode": {
    "name": "ipython",
    "version": 3
   },
   "file_extension": ".py",
   "mimetype": "text/x-python",
   "name": "python",
   "nbconvert_exporter": "python",
   "pygments_lexer": "ipython3",
   "version": "3.9.12"
  }
 },
 "nbformat": 4,
 "nbformat_minor": 1
}
